{
 "cells": [
  {
   "cell_type": "markdown",
   "id": "7aa13924-5021-436e-a3b8-0d08f208497b",
   "metadata": {},
   "source": [
    "# PROJECT DOCUMENTATION FOR CAREER PATH GENERATOR"
   ]
  },
  {
   "cell_type": "markdown",
   "id": "2b05392f-85fa-4ac2-8bd2-967b0dfdb958",
   "metadata": {},
   "source": [
    "## PROJECT NAME: CAREER PATH"
   ]
  },
  {
   "cell_type": "markdown",
   "id": "7bbf9675-5fc6-47e0-aa08-380f9423a840",
   "metadata": {},
   "source": [
    "### 1. PROJECT OVERVIEW\n",
    "- Project Title: Career Path Generator\n",
    "- Objectives: The objective of this project is to develop an interactive AI-powered path/roadmap generation tool that helps users upscale their career or grow in their learning paths. By integrating OpenAI or Gemini-AI API, users will interact with a text interface to describe their career goals(tech related for now), and the system will generate a personalized roadmap displayed in a flowchart format, with detailed step-by-step explanation, and a practice test of knowledge to check the user understanding and fit for employment.\n",
    "- Scope: The scope includes developing a text interface to collect user input, integrating AI for dynamic roadmap generation, and creating an interactive flowchart where each step is clickable to provide explanations. With a practice quiz to ensure test of knowledge. The project will also ensure responsive design\n",
    "across web and mobile platforms for optimal user experience."
   ]
  },
  {
   "cell_type": "markdown",
   "id": "f17a8c95-ea86-4701-8596-cafd7f044da9",
   "metadata": {},
   "source": [
    "### 2. PROJECT PLAN\n",
    "- Timeline:\n",
    "  - Research, and Initial Development (text interface UI and Flowchart structure).\n",
    "  -  Dynamic roadmap generation, and clickable steps.\n",
    "  - Testing, refinements, and final deployment.gemen."
   ]
  },
  {
   "cell_type": "markdown",
   "id": "5c46a941-5b54-47fe-bfb0-9b53fd94a3e5",
   "metadata": {},
   "source": [
    "- Milestones:\n",
    "  - Develop text interface to handle user inputs and path/roadmap generation.\n",
    "  - Build interactive flowchart with clickable steps and descriptions.\n",
    "  - Finalize testing and deployment.\n",
    "- Resource Allocation:\n",
    "- Risk Management:"
   ]
  },
  {
   "cell_type": "markdown",
   "id": "74c50154-6d35-4040-90ad-8f658d561750",
   "metadata": {},
   "source": [
    "### 3. REQUIREMENTS\n",
    "- Functional Requirements:\n",
    "  - Text interface for user interaction.\n",
    "  - Career Roadmap generator that displays a flowchart based on user input.\n",
    "  - Clickable steps in the roadmap/path with descriptions and quiz test."
   ]
  },
  {
   "cell_type": "markdown",
   "id": "d4ed083b-ce00-449d-ba6f-107abdb8c77a",
   "metadata": {},
   "source": [
    "### 4. DESIGN DOCUMENTATION\n",
    "- System Architecture:\n",
    "  -  Frontend: Flask API with HTMLS and CSS3 for the user interface\n",
    "  - Backend: Text interface with Flask API (integrating OpenAI model or similar), and career roadmap generation logic."
   ]
  },
  {
   "cell_type": "markdown",
   "id": "951df0ae-0334-4a48-b6f6-fddb5c63bdde",
   "metadata": {},
   "source": [
    "- UI/UX Designs:\n",
    "  - Simple, user-friendly text interface.\n",
    "  - Flowchart design with clear step transitions and explanations.\n",
    "- API Documentation:"
   ]
  },
  {
   "cell_type": "markdown",
   "id": "80b81803-fd0c-4228-a88b-a17364c1b430",
   "metadata": {},
   "source": [
    "### 5. DEVELOPMENT PROCESS\n",
    "- Development Methodology: Agile.\n"
   ]
  },
  {
   "cell_type": "markdown",
   "id": "cda1a08c-f8b6-4f85-82a8-91e08ab9bf72",
   "metadata": {},
   "source": [
    "- Sprint Planning:\n",
    "  - Text interface development and UI design.\n",
    "  - Dynamic roadmap generation with interactive flowchart.\n",
    "  - Testing, feedback incorporation, and deployment.\n",
    "- Code Repository: https://github.com/Zaratti/CareerPath.git\n",
    "- Technical Specications:\n",
    "  - Frontend: Flask, CSS3 and HTML5.\n",
    "  - Backend: OpenAI or Gemini-AI API integration.\n",
    "  - Libraries: Flowchart.js, React-Diagrams, Reactflow, OpenAI API (or Gemini API)."
   ]
  },
  {
   "cell_type": "markdown",
   "id": "484310bd-7d0a-4fd6-bc71-60712be3392a",
   "metadata": {},
   "source": [
    "### 6. PROJECT OUTCOMES\n",
    "- Final Deliverables:"
   ]
  },
  {
   "cell_type": "markdown",
   "id": "7b850931-fee4-477a-8082-a2e5cc92db6e",
   "metadata": {},
   "source": [
    "- Performance Metrics:\n",
    "  - Success rate of generating accurate roadmaps based on user inputs.\n",
    "  - User interaction rates with the roadmap and completion of roadmap steps.\n",
    "- Client Feedback:"
   ]
  },
  {
   "cell_type": "markdown",
   "id": "77b2e00a-f063-40ae-a2f6-e95ba16cf74c",
   "metadata": {},
   "source": [
    "### 7. LESSONS LEARNED\n",
    "- Challenges Faced:\n",
    "-  Solutions Implemented:\n",
    "- Best Practices:"
   ]
  },
  {
   "cell_type": "markdown",
   "id": "ea26c59d-164e-4d9f-b3a6-1dcb46b4b290",
   "metadata": {},
   "source": [
    "### 8. APPENDICES\n",
    "- Additional Documentation:"
   ]
  }
 ],
 "metadata": {
  "kernelspec": {
   "display_name": "Python 3 (ipykernel)",
   "language": "python",
   "name": "python3"
  },
  "language_info": {
   "codemirror_mode": {
    "name": "ipython",
    "version": 3
   },
   "file_extension": ".py",
   "mimetype": "text/x-python",
   "name": "python",
   "nbconvert_exporter": "python",
   "pygments_lexer": "ipython3",
   "version": "3.11.7"
  }
 },
 "nbformat": 4,
 "nbformat_minor": 5
}
